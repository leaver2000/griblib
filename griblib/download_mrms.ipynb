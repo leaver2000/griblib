{
 "cells": [
  {
   "cell_type": "code",
   "execution_count": 1,
   "metadata": {},
   "outputs": [
    {
     "data": {
      "text/html": [
       "\n",
       "                <script type=\"application/javascript\" id=\"jupyter_black\">\n",
       "                (function() {\n",
       "                    if (window.IPython === undefined) {\n",
       "                        return\n",
       "                    }\n",
       "                    var msg = \"WARNING: it looks like you might have loaded \" +\n",
       "                        \"jupyter_black in a non-lab notebook with \" +\n",
       "                        \"`is_lab=True`. Please double check, and if \" +\n",
       "                        \"loading with `%load_ext` please review the README!\"\n",
       "                    console.log(msg)\n",
       "                    alert(msg)\n",
       "                })()\n",
       "                </script>\n",
       "                "
      ],
      "text/plain": [
       "<IPython.core.display.HTML object>"
      ]
     },
     "metadata": {},
     "output_type": "display_data"
    }
   ],
   "source": [
    "%load_ext jupyter_black"
   ]
  },
  {
   "cell_type": "markdown",
   "metadata": {},
   "source": [
    "\n",
    "\n",
    "\n",
    "[live data](https://mrms.ncep.noaa.gov/data/)\n",
    "## MRMS GRIB2 Tables\n",
    "[grib tables](https://www.nssl.noaa.gov/projects/mrms/operational/tables.php)\n",
    "\n",
    "This information is current for MRMS Version 12.2.\n",
    "\n",
    "NOTE: All GRIB2 MRMS product filenames have \"MRMS_\" prepended. For example, \"ReflectivityAtLowestAltitude\" is actually \"MRMS_ReflectivityAtLowestAltitude\".\n",
    "\n",
    "Below is an example filename pattern for MRMS data:\n",
    "\n",
    "/nfsdata/realtime/outgoing/grib2/CONUS/MRMS_ReflectivityAtLowestAltitude_00.50_20201012-183805.grib2.gz\n",
    "where \"00.50\" is the height of the field in kilometers and \"20201012-183805\" is the UTC time stamp [year][month][day]-[hour][minute][second]"
   ]
  },
  {
   "cell_type": "code",
   "execution_count": 2,
   "metadata": {},
   "outputs": [],
   "source": [
    "import os\n",
    "from pathlib import Path\n",
    "from typing import Iterator\n",
    "from datetime import datetime\n",
    "from shutil import copyfileobj\n",
    "\n",
    "from requests import Session, HTTPError\n",
    "import pandas as pd"
   ]
  },
  {
   "cell_type": "code",
   "execution_count": null,
   "metadata": {},
   "outputs": [],
   "source": []
  }
 ],
 "metadata": {
  "interpreter": {
   "hash": "23393d2575091a37cff0d0e9e7479591a295495b26c3b2ebf9b64da572e02d85"
  },
  "kernelspec": {
   "display_name": "Python 3.10.4 ('venv')",
   "language": "python",
   "name": "python3"
  },
  "language_info": {
   "codemirror_mode": {
    "name": "ipython",
    "version": 3
   },
   "file_extension": ".py",
   "mimetype": "text/x-python",
   "name": "python",
   "nbconvert_exporter": "python",
   "pygments_lexer": "ipython3",
   "version": "3.10.4"
  },
  "orig_nbformat": 4
 },
 "nbformat": 4,
 "nbformat_minor": 2
}
