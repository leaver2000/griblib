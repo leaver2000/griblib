{
 "cells": [
  {
   "cell_type": "code",
   "execution_count": 1,
   "metadata": {},
   "outputs": [
    {
     "data": {
      "text/html": [
       "\n",
       "                <script type=\"application/javascript\" id=\"jupyter_black\">\n",
       "                (function() {\n",
       "                    if (window.IPython === undefined) {\n",
       "                        return\n",
       "                    }\n",
       "                    var msg = \"WARNING: it looks like you might have loaded \" +\n",
       "                        \"jupyter_black in a non-lab notebook with \" +\n",
       "                        \"`is_lab=True`. Please double check, and if \" +\n",
       "                        \"loading with `%load_ext` please review the README!\"\n",
       "                    console.log(msg)\n",
       "                    alert(msg)\n",
       "                })()\n",
       "                </script>\n",
       "                "
      ],
      "text/plain": [
       "<IPython.core.display.HTML object>"
      ]
     },
     "metadata": {},
     "output_type": "display_data"
    }
   ],
   "source": [
    "%load_ext jupyter_black"
   ]
  },
  {
   "cell_type": "code",
   "execution_count": 2,
   "metadata": {},
   "outputs": [],
   "source": [
    "import os\n",
    "from pathlib import Path\n",
    "from typing import Iterator\n",
    "from datetime import datetime\n",
    "from shutil import copyfileobj\n",
    "\n",
    "from requests import Session, HTTPError\n",
    "import pandas as pd"
   ]
  },
  {
   "cell_type": "code",
   "execution_count": 3,
   "metadata": {},
   "outputs": [],
   "source": [
    "def google_api_hrrr_grib2_data(start: datetime, end: datetime) -> Iterator[tuple[str, str]]:\n",
    "    \"\"\"\n",
    "    generate a date range on an hourly interval\n",
    "    \"\"\"\n",
    "\n",
    "    base_url = \"https://storage.googleapis.com/high-resolution-rapid-refresh/\"\n",
    "    date_range = pd.date_range(start, end, freq=\"h\")\n",
    "\n",
    "    yield from zip(\n",
    "        date_range.strftime(\"%Y-%m-%dT%H:%M:%SZ\"),\n",
    "        base_url + date_range.strftime(\"hrrr.%Y%m%d/conus/hrrr.t%Hz.wrfnatf00.grib2\"),\n",
    "    )"
   ]
  },
  {
   "cell_type": "code",
   "execution_count": 6,
   "metadata": {},
   "outputs": [
    {
     "name": "stdout",
     "output_type": "stream",
     "text": [
      "grib2 file saved at  /workspaces/griblib/data/hrrr/2022-06-18T00:00:00Z.grib2\n",
      "grib2 file saved at  /workspaces/griblib/data/hrrr/2022-06-18T01:00:00Z.grib2\n",
      "grib2 file saved at  /workspaces/griblib/data/hrrr/2022-06-18T02:00:00Z.grib2\n",
      "grib2 file saved at  /workspaces/griblib/data/hrrr/2022-06-18T03:00:00Z.grib2\n",
      "grib2 file saved at  /workspaces/griblib/data/hrrr/2022-06-18T04:00:00Z.grib2\n",
      "grib2 file saved at  /workspaces/griblib/data/hrrr/2022-06-18T05:00:00Z.grib2\n",
      "grib2 file saved at  /workspaces/griblib/data/hrrr/2022-06-18T06:00:00Z.grib2\n",
      "grib2 file saved at  /workspaces/griblib/data/hrrr/2022-06-18T07:00:00Z.grib2\n",
      "grib2 file saved at  /workspaces/griblib/data/hrrr/2022-06-18T08:00:00Z.grib2\n",
      "grib2 file saved at  /workspaces/griblib/data/hrrr/2022-06-18T09:00:00Z.grib2\n",
      "grib2 file saved at  /workspaces/griblib/data/hrrr/2022-06-18T10:00:00Z.grib2\n",
      "grib2 file saved at  /workspaces/griblib/data/hrrr/2022-06-18T11:00:00Z.grib2\n",
      "grib2 file saved at  /workspaces/griblib/data/hrrr/2022-06-18T12:00:00Z.grib2\n",
      "grib2 file saved at  /workspaces/griblib/data/hrrr/2022-06-18T13:00:00Z.grib2\n",
      "grib2 file saved at  /workspaces/griblib/data/hrrr/2022-06-18T14:00:00Z.grib2\n",
      "grib2 file saved at  /workspaces/griblib/data/hrrr/2022-06-18T15:00:00Z.grib2\n",
      "grib2 file saved at  /workspaces/griblib/data/hrrr/2022-06-18T16:00:00Z.grib2\n",
      "grib2 file saved at  /workspaces/griblib/data/hrrr/2022-06-18T17:00:00Z.grib2\n",
      "grib2 file saved at  /workspaces/griblib/data/hrrr/2022-06-18T18:00:00Z.grib2\n",
      "grib2 file saved at  /workspaces/griblib/data/hrrr/2022-06-18T19:00:00Z.grib2\n",
      "grib2 file saved at  /workspaces/griblib/data/hrrr/2022-06-18T20:00:00Z.grib2\n",
      "grib2 file saved at  /workspaces/griblib/data/hrrr/2022-06-18T21:00:00Z.grib2\n",
      "grib2 file saved at  /workspaces/griblib/data/hrrr/2022-06-18T22:00:00Z.grib2\n",
      "grib2 file saved at  /workspaces/griblib/data/hrrr/2022-06-18T23:00:00Z.grib2\n",
      "grib2 file saved at  /workspaces/griblib/data/hrrr/2022-06-19T00:00:00Z.grib2\n"
     ]
    },
    {
     "data": {
      "text/plain": [
       "[]"
      ]
     },
     "execution_count": 6,
     "metadata": {},
     "output_type": "execute_result"
    }
   ],
   "source": [
    "def download_and_gribs(start: datetime, end: datetime, path: Path) -> list[str]:\n",
    "    \"\"\"\n",
    "    iterate over validtimes and urls and save files to a Path directory\n",
    "    returns a list of urls that failed to download\n",
    "    \"\"\"\n",
    "    failed_files = []\n",
    "    # request context manager\n",
    "    with Session() as session:\n",
    "        # iteratate over the generator function\n",
    "        for validtime, url in google_api_hrrr_grib2_data(start=start, end=end):\n",
    "            # add the filename to the path object\n",
    "            save_to = path / f\"{validtime}.grib2\"\n",
    "            try:\n",
    "                # make a http get request to the url\n",
    "                res = session.get(url, stream=True)\n",
    "                # on non 200 status code raise HTTPError\n",
    "                res.raise_for_status()\n",
    "                # save the file to the directory\n",
    "                with save_to.open(\"wb\") as fileout:\n",
    "                    copyfileobj(res.raw, fileout)\n",
    "                print(\"grib2 file saved at \", save_to)\n",
    "\n",
    "            except HTTPError:\n",
    "                # on a failed http reqest append the url to the failed_files list\n",
    "                failed_files.append(url)\n",
    "\n",
    "    return failed_files\n",
    "\n",
    "\n",
    "media_ext = Path(\"/workspaces/griblib/data/hrrr/\")\n",
    "\n",
    "download_and_gribs(start=datetime(2022, 6, 18), end=datetime(2022, 6, 19), path=media_ext)"
   ]
  }
 ],
 "metadata": {
  "interpreter": {
   "hash": "23393d2575091a37cff0d0e9e7479591a295495b26c3b2ebf9b64da572e02d85"
  },
  "kernelspec": {
   "display_name": "Python 3.10.4 ('venv')",
   "language": "python",
   "name": "python3"
  },
  "language_info": {
   "codemirror_mode": {
    "name": "ipython",
    "version": 3
   },
   "file_extension": ".py",
   "mimetype": "text/x-python",
   "name": "python",
   "nbconvert_exporter": "python",
   "pygments_lexer": "ipython3",
   "version": "3.10.4"
  },
  "orig_nbformat": 4
 },
 "nbformat": 4,
 "nbformat_minor": 2
}
