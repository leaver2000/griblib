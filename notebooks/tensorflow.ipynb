{
 "cells": [
  {
   "cell_type": "code",
   "execution_count": null,
   "metadata": {},
   "outputs": [],
   "source": []
  },
  {
   "cell_type": "markdown",
   "metadata": {},
   "source": [
    "installing docker ...\n",
    "\n",
    "\n",
    "check your machines device\n",
    "\n",
    "windows:\n",
    "\n",
    "```powershell\n",
    "wmic path win32_VideoController get name\n",
    "Name\n",
    "Intel(R) UHD Graphics\n",
    "NVIDIA GeForce GTX 1650\n",
    "```\n",
    "\n",
    "linux:\n",
    "```\n",
    "\n",
    "```\n",
    "\n",
    "\n",
    "\n",
    "\n",
    "pull the [Tensorflow-Docker](https://www.tensorflow.org/install/docker) docker image\n",
    "``` bash\n",
    "docker pull tensorflow/tensorflow:nightly-gpu-jupyter\n",
    "```\n",
    "\n",
    "\n",
    "check the image\n",
    "``` bash\n",
    "docker run --gpus all -it --rm tensorflow/tensorflow:nightly-gpu-jupyter \\\n",
    "   python -c \"import tensorflow as tf; print(tf.reduce_sum(tf.random.normal([1000, 1000])))\"\n",
    "\n",
    "docker run --gpus all -it --rm tensorflow/tensorflow:nightly-gpu-jupyter \\\n",
    "    python3 -c \"import tensorflow as tf; print(tf.test.gpu_device_name())\"\n",
    "```\n",
    "connect with bash\n",
    "\n",
    "``` bash\n",
    "docker run -u $(id -u):$(id -g) --gpus all -it --rm tensorflow/tensorflow:nightly-gpu-jupyter /bin/bash\n",
    "```"
   ]
  }
 ],
 "metadata": {
  "kernelspec": {
   "display_name": "Python 3.10.4 64-bit",
   "language": "python",
   "name": "python3"
  },
  "language_info": {
   "name": "python",
   "version": "3.10.4"
  },
  "orig_nbformat": 4,
  "vscode": {
   "interpreter": {
    "hash": "916dbcbb3f70747c44a77c7bcd40155683ae19c65e1c03b4aa3499c5328201f1"
   }
  }
 },
 "nbformat": 4,
 "nbformat_minor": 2
}
