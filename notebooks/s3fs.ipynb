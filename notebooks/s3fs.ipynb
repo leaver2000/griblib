{
 "cells": [
  {
   "cell_type": "code",
   "execution_count": 1,
   "metadata": {},
   "outputs": [
    {
     "data": {
      "text/html": [
       "\n",
       "                <script type=\"application/javascript\" id=\"jupyter_black\">\n",
       "                (function() {\n",
       "                    if (window.IPython === undefined) {\n",
       "                        return\n",
       "                    }\n",
       "                    var msg = \"WARNING: it looks like you might have loaded \" +\n",
       "                        \"jupyter_black in a non-lab notebook with \" +\n",
       "                        \"`is_lab=True`. Please double check, and if \" +\n",
       "                        \"loading with `%load_ext` please review the README!\"\n",
       "                    console.log(msg)\n",
       "                    alert(msg)\n",
       "                })()\n",
       "                </script>\n",
       "                "
      ],
      "text/plain": [
       "<IPython.core.display.HTML object>"
      ]
     },
     "metadata": {},
     "output_type": "display_data"
    }
   ],
   "source": [
    "%load_ext jupyter_black\n",
    "import nest_asyncio\n",
    "\n",
    "nest_asyncio.apply()"
   ]
  },
  {
   "cell_type": "code",
   "execution_count": 2,
   "metadata": {},
   "outputs": [],
   "source": [
    "import io\n",
    "from typing import Literal, Union\n",
    "from datetime import datetime, timedelta\n",
    "\n",
    "import s3fs\n",
    "import pandas as pd\n",
    "import numpy as np\n",
    "import xarray as xr\n",
    "\n",
    "from griblib.extract import get_url_template\n",
    "\n",
    "GMGSIProducts = Literal[\"GMGSI_LW\", \"GMGSI_SSR\", \"GMGSI_SW\", \"GMGSI_VIS\", \"GMGSI_WV\"]\n",
    "TimeLike = Union[str, datetime, pd.Timestamp]"
   ]
  },
  {
   "cell_type": "code",
   "execution_count": 12,
   "metadata": {},
   "outputs": [],
   "source": [
    "BUCKETS = {\n",
    "    \"GMGSI_LW\": \"GLOBCOMPLIR_nc\",\n",
    "    \"GMGSI_SSR\": \"GLOBCOMPSSR_nc\",\n",
    "    \"GMGSI_SW\": \"GLOBCOMPSIR_nc\",\n",
    "    \"GMGSI_VIS\": \"GLOBCOMPVIS_nc\",\n",
    "    \"GMGSI_WV\": \"GLOBCOMPWV_nc\",\n",
    "}\n",
    "\n",
    "fs = s3fs.S3FileSystem(anon=True)\n",
    "\n",
    "def get_url_template(prod: GMGSIProducts):\n",
    "    return f\"s3://noaa-gmgsi-pds.s3.amazonaws.com/{prod}\" \n",
    "\n",
    "# -3 limits output for testing purposes to prevent memory overload\n",
    "def daily_file_report(date: datetime):\n",
    "    for path in fs.ls(f\"s3://noaa-gmgsi-pds/GMGSI_LW/{date:%Y}/{date:%m}/{date:%d}\"):\n",
    "        for file in fs.ls(path):\n",
    "            yield file\n",
    "\n",
    "def generate():\n",
    "    for date in pd.date_range(\"2022-01-01\", \"2022-01-02\", freq=\"d\"):\n",
    "        files = tuple(daily_file_report(date))\n",
    "        if not files:\n",
    "            continue\n",
    "        for file in files:\n",
    "            with fs.open(file, \"rb\") as f:\n",
    "                yield xr.open_dataset(io.BytesIO(f.read()), engine=\"h5netcdf\")\n",
    "\n",
    "\n",
    "def main():\n",
    "    return xr.concat(generate(), dim=\"time\")\n",
    "ds = main()\n",
    "ds"
   ]
  }
 ],
 "metadata": {
  "kernelspec": {
   "display_name": "Python 3.9.13 ('rapids')",
   "language": "python",
   "name": "python3"
  },
  "language_info": {
   "codemirror_mode": {
    "name": "ipython",
    "version": 3
   },
   "file_extension": ".py",
   "mimetype": "text/x-python",
   "name": "python",
   "nbconvert_exporter": "python",
   "pygments_lexer": "ipython3",
   "version": "3.9.13"
  },
  "orig_nbformat": 4,
  "vscode": {
   "interpreter": {
    "hash": "f708a36acfaef0acf74ccd43dfb58100269bf08fb79032a1e0a6f35bd9856f51"
   }
  }
 },
 "nbformat": 4,
 "nbformat_minor": 2
}
