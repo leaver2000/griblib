{
 "cells": [
  {
   "cell_type": "code",
   "execution_count": 1,
   "metadata": {},
   "outputs": [
    {
     "data": {
      "text/html": [
       "\n",
       "                <script type=\"application/javascript\" id=\"jupyter_black\">\n",
       "                (function() {\n",
       "                    if (window.IPython === undefined) {\n",
       "                        return\n",
       "                    }\n",
       "                    var msg = \"WARNING: it looks like you might have loaded \" +\n",
       "                        \"jupyter_black in a non-lab notebook with \" +\n",
       "                        \"`is_lab=True`. Please double check, and if \" +\n",
       "                        \"loading with `%load_ext` please review the README!\"\n",
       "                    console.log(msg)\n",
       "                    alert(msg)\n",
       "                })()\n",
       "                </script>\n",
       "                "
      ],
      "text/plain": [
       "<IPython.core.display.HTML object>"
      ]
     },
     "metadata": {},
     "output_type": "display_data"
    }
   ],
   "source": [
    "%load_ext jupyter_black"
   ]
  },
  {
   "cell_type": "markdown",
   "metadata": {},
   "source": [
    "# What is python? \n",
    "\n",
    "### key take aways\n",
    "\n",
    "Python is a dynamicly typed, interpreted programing language\n",
    "\n",
    "\n",
    "what does that mean?\n",
    "\n",
    "### interpreted vs compiled\n",
    "\n",
    "interpreted: compiled at runtime\n",
    "\n",
    "> python & JavaScript\n",
    "\n",
    "pro:\n",
    "- quicker to develop & test code\n",
    "\n",
    "con:\n",
    "- less performant\n",
    "\n",
    "compiled: before code can be executed & ran it has to be compiled\n",
    "\n",
    "> c c++ fortran ...\n",
    "\n",
    "pro:\n",
    "- can be very performant\n",
    "\n",
    "con:\n",
    "- code must be compiled\n",
    "\n",
    "### dynamicly typed vs staticly typed\n",
    "\n",
    "in a staticly typed programing language the data types inside must be specified inside of the code\n",
    "\n",
    "\n",
    "``` c\n",
    "#include<stdio.h>\n",
    "void fibonacciSeries(int range){\n",
    "   int a=0, b=1, c;\n",
    "   while (a<=range){\n",
    "     printf(\"%d\\t\", a);\n",
    "     c = a+b;\n",
    "     a = b;\n",
    "     b = c;\n",
    "   }\n",
    "}\n",
    "\n",
    "int main(){\n",
    "   int range;\n",
    "\n",
    "   printf(\"Enter range: \");\n",
    "   scanf(\"%d\", &range);\n",
    "\n",
    "   printf(\"The fibonacci series is: \\n\");\n",
    "\n",
    "   fibonacciSeries(range);\n",
    "\n",
    "   return 0;\n",
    "}\n",
    "```\n",
    "\n",
    "in python...\n",
    "\n",
    "``` python\n",
    "def fibonacci(num):\n",
    "\ta, b = 1, 1\n",
    "\tfor _ in range(num - 1):\n",
    "\t\ta, b = b, a + b\n",
    "\treturn a\n",
    "\n",
    "\n",
    "if __name__ == \"__main__\":\n",
    "    print(fibonacci(6)) \n",
    "```\n",
    "\n",
    "the c implmentation is much faster but python is easier to read \n",
    "\n",
    "\n",
    "## if python is slow why is it used?\n",
    "\n",
    "python is performant enough in most of areas, its just when datasets become very large that performance suffers.\n",
    "\n",
    "solution: python bindings to compiled languages\n",
    "\n",
    "numpy, pandas, xarray, cfgrib, eccodes, and many more"
   ]
  },
  {
   "cell_type": "markdown",
   "metadata": {},
   "source": [
    "## primitive types"
   ]
  },
  {
   "cell_type": "code",
   "execution_count": 2,
   "metadata": {},
   "outputs": [
    {
     "data": {
      "text/plain": [
       "int"
      ]
     },
     "execution_count": 2,
     "metadata": {},
     "output_type": "execute_result"
    }
   ],
   "source": [
    "# type is a builtint class, that class returns a __repr__ of the datatype you passed into it\n",
    "type(1)"
   ]
  },
  {
   "cell_type": "code",
   "execution_count": 3,
   "metadata": {},
   "outputs": [
    {
     "data": {
      "text/plain": [
       "float"
      ]
     },
     "execution_count": 3,
     "metadata": {},
     "output_type": "execute_result"
    }
   ],
   "source": [
    "type(1.0)"
   ]
  },
  {
   "cell_type": "code",
   "execution_count": 4,
   "metadata": {},
   "outputs": [
    {
     "data": {
      "text/plain": [
       "NoneType"
      ]
     },
     "execution_count": 4,
     "metadata": {},
     "output_type": "execute_result"
    }
   ],
   "source": [
    "type(None)"
   ]
  },
  {
   "cell_type": "code",
   "execution_count": 5,
   "metadata": {},
   "outputs": [
    {
     "data": {
      "text/plain": [
       "str"
      ]
     },
     "execution_count": 5,
     "metadata": {},
     "output_type": "execute_result"
    }
   ],
   "source": [
    "type(\"Hello\")"
   ]
  },
  {
   "cell_type": "code",
   "execution_count": 6,
   "metadata": {},
   "outputs": [
    {
     "data": {
      "text/plain": [
       "bool"
      ]
     },
     "execution_count": 6,
     "metadata": {},
     "output_type": "execute_result"
    }
   ],
   "source": [
    "type(False)"
   ]
  },
  {
   "cell_type": "code",
   "execution_count": 19,
   "metadata": {},
   "outputs": [
    {
     "data": {
      "text/plain": [
       "['__abs__',\n",
       " '__add__',\n",
       " '__and__',\n",
       " '__bool__',\n",
       " '__ceil__',\n",
       " '__class__',\n",
       " '__delattr__',\n",
       " '__dir__',\n",
       " '__divmod__',\n",
       " '__doc__',\n",
       " '__eq__',\n",
       " '__float__',\n",
       " '__floor__',\n",
       " '__floordiv__',\n",
       " '__format__',\n",
       " '__ge__',\n",
       " '__getattribute__',\n",
       " '__getnewargs__',\n",
       " '__gt__',\n",
       " '__hash__',\n",
       " '__index__',\n",
       " '__init__',\n",
       " '__init_subclass__',\n",
       " '__int__',\n",
       " '__invert__',\n",
       " '__le__',\n",
       " '__lshift__',\n",
       " '__lt__',\n",
       " '__mod__',\n",
       " '__mul__',\n",
       " '__ne__',\n",
       " '__neg__',\n",
       " '__new__',\n",
       " '__or__',\n",
       " '__pos__',\n",
       " '__pow__',\n",
       " '__radd__',\n",
       " '__rand__',\n",
       " '__rdivmod__',\n",
       " '__reduce__',\n",
       " '__reduce_ex__',\n",
       " '__repr__',\n",
       " '__rfloordiv__',\n",
       " '__rlshift__',\n",
       " '__rmod__',\n",
       " '__rmul__',\n",
       " '__ror__',\n",
       " '__round__',\n",
       " '__rpow__',\n",
       " '__rrshift__',\n",
       " '__rshift__',\n",
       " '__rsub__',\n",
       " '__rtruediv__',\n",
       " '__rxor__',\n",
       " '__setattr__',\n",
       " '__sizeof__',\n",
       " '__str__',\n",
       " '__sub__',\n",
       " '__subclasshook__',\n",
       " '__truediv__',\n",
       " '__trunc__',\n",
       " '__xor__',\n",
       " 'as_integer_ratio',\n",
       " 'bit_count',\n",
       " 'bit_length',\n",
       " 'conjugate',\n",
       " 'denominator',\n",
       " 'from_bytes',\n",
       " 'imag',\n",
       " 'numerator',\n",
       " 'real',\n",
       " 'to_bytes']"
      ]
     },
     "execution_count": 19,
     "metadata": {},
     "output_type": "execute_result"
    }
   ],
   "source": [
    "dir(False)\n",
    "# False.__invert__()"
   ]
  },
  {
   "cell_type": "markdown",
   "metadata": {},
   "source": [
    "collections"
   ]
  },
  {
   "cell_type": "code",
   "execution_count": 13,
   "metadata": {},
   "outputs": [],
   "source": [
    "def helper(col: dict | list | tuple, key: str | int) -> str:\n",
    "    return f\"type={type(col)}, object={col}, value={col[key]}\""
   ]
  },
  {
   "cell_type": "code",
   "execution_count": 14,
   "metadata": {},
   "outputs": [
    {
     "data": {
      "text/plain": [
       "\"type=<class 'dict'>, object={'A': 1}, value=1\""
      ]
     },
     "execution_count": 14,
     "metadata": {},
     "output_type": "execute_result"
    }
   ],
   "source": [
    "_dict = {\"A\": 1}\n",
    "helper(_dict, \"A\")\n"
   ]
  },
  {
   "cell_type": "code",
   "execution_count": 16,
   "metadata": {},
   "outputs": [
    {
     "data": {
      "text/plain": [
       "\"type=<class 'list'>, object=[1, 'hello', False], value=1\""
      ]
     },
     "execution_count": 16,
     "metadata": {},
     "output_type": "execute_result"
    }
   ],
   "source": [
    "_list = [1, \"hello\", False]\n",
    "helper(_list, 0)"
   ]
  },
  {
   "cell_type": "code",
   "execution_count": 15,
   "metadata": {},
   "outputs": [
    {
     "data": {
      "text/plain": [
       "\"type=<class 'tuple'>, object=(1, 'hello', False), value=1\""
      ]
     },
     "execution_count": 15,
     "metadata": {},
     "output_type": "execute_result"
    }
   ],
   "source": [
    "_tuple = (1, \"hello\", False)\n",
    "helper(_tuple, 0)"
   ]
  },
  {
   "cell_type": "code",
   "execution_count": 4,
   "metadata": {},
   "outputs": [
    {
     "data": {
      "text/plain": [
       "[8, 2, 3]"
      ]
     },
     "execution_count": 4,
     "metadata": {},
     "output_type": "execute_result"
    }
   ],
   "source": [
    "# mutable vs imutable\n",
    "a = [1,2,3]\n",
    "a[0] = a[2] +5\n",
    "a"
   ]
  },
  {
   "cell_type": "code",
   "execution_count": 5,
   "metadata": {},
   "outputs": [
    {
     "ename": "TypeError",
     "evalue": "'tuple' object does not support item assignment",
     "output_type": "error",
     "traceback": [
      "\u001b[0;31m---------------------------------------------------------------------------\u001b[0m",
      "\u001b[0;31mTypeError\u001b[0m                                 Traceback (most recent call last)",
      "\u001b[0;32m/tmp/ipykernel_9687/1175487853.py\u001b[0m in \u001b[0;36m<cell line: 2>\u001b[0;34m()\u001b[0m\n\u001b[1;32m      1\u001b[0m \u001b[0mt\u001b[0m \u001b[0;34m=\u001b[0m \u001b[0;34m(\u001b[0m\u001b[0;36m1\u001b[0m\u001b[0;34m,\u001b[0m\u001b[0;36m2\u001b[0m\u001b[0;34m,\u001b[0m\u001b[0;36m3\u001b[0m\u001b[0;34m)\u001b[0m\u001b[0;34m\u001b[0m\u001b[0;34m\u001b[0m\u001b[0m\n\u001b[0;32m----> 2\u001b[0;31m \u001b[0mt\u001b[0m\u001b[0;34m[\u001b[0m\u001b[0;36m0\u001b[0m\u001b[0;34m]\u001b[0m \u001b[0;34m=\u001b[0m \u001b[0;36m1\u001b[0m\u001b[0;34m\u001b[0m\u001b[0;34m\u001b[0m\u001b[0m\n\u001b[0m",
      "\u001b[0;31mTypeError\u001b[0m: 'tuple' object does not support item assignment"
     ]
    }
   ],
   "source": [
    "t = (1,2,3)\n",
    "t[0] = 1 # nope"
   ]
  },
  {
   "cell_type": "markdown",
   "metadata": {},
   "source": [
    "functions and classes"
   ]
  },
  {
   "cell_type": "code",
   "execution_count": 32,
   "metadata": {},
   "outputs": [
    {
     "name": "stdout",
     "output_type": "stream",
     "text": [
      "25937424.601\n",
      "61917364.224\n",
      "137858491.849\n",
      "289254654.976\n",
      "576650390.625\n"
     ]
    },
    {
     "data": {
      "text/plain": [
       "'hello world'"
      ]
     },
     "execution_count": 32,
     "metadata": {},
     "output_type": "execute_result"
    }
   ],
   "source": [
    "def func(\n",
    "    # positional argument\n",
    "    arg1: float,\n",
    "    # argsssss\n",
    "    *args: float,\n",
    "    # key word argument\n",
    "    under=1,\n",
    "    # keyword argumentsssss\n",
    "    **kwargs,\n",
    "):\n",
    "    # default power value\n",
    "    power = 1\n",
    "    # an if statement\n",
    "    if \"power\" in kwargs:\n",
    "        power = kwargs[\"power\"]\n",
    "    # basic for loop\n",
    "    for val in args:\n",
    "        print(((val + arg1) ** power) / under)\n",
    "    return \"hello world\"\n",
    "\n",
    "\n",
    "func(\n",
    "    # the first positional argument\n",
    "    10,\n",
    "    # args\n",
    "    1,\n",
    "    2,\n",
    "    3,\n",
    "    4,\n",
    "    5,\n",
    "    # the keyword argument\n",
    "    under=1000,\n",
    "    # kwargs\n",
    "    power=10,\n",
    "    whats_this_do=\"nothing just an unused **kwarg\",\n",
    ")"
   ]
  },
  {
   "cell_type": "code",
   "execution_count": 33,
   "metadata": {},
   "outputs": [
    {
     "data": {
      "text/plain": [
       "<__main__.A at 0x7f68ae7db460>"
      ]
     },
     "execution_count": 33,
     "metadata": {},
     "output_type": "execute_result"
    }
   ],
   "source": [
    "# classes are really useful for managing state and alot of other connected tasks\n",
    "class A:\n",
    "    pass\n",
    "\n",
    "a = A()\n",
    "\n",
    "a"
   ]
  },
  {
   "cell_type": "code",
   "execution_count": 39,
   "metadata": {},
   "outputs": [
    {
     "data": {
      "text/plain": [
       "'Hello bill'"
      ]
     },
     "execution_count": 39,
     "metadata": {},
     "output_type": "execute_result"
    }
   ],
   "source": [
    "class Figure:\n",
    "    def __init__(self, phrase: str) -> None:\n",
    "        self.phrase = phrase\n",
    "\n",
    "    def greet(self, other: str):\n",
    "        return f\"{self.phrase} {other}\"\n",
    "\n",
    "    # def __repr__(self) -> str:\n",
    "    #     return self.__class__.__name__\n",
    "\n",
    "\n",
    "f = Figure(\"Hello\")\n",
    "f.greet(\"bill\")"
   ]
  },
  {
   "cell_type": "code",
   "execution_count": 36,
   "metadata": {},
   "outputs": [
    {
     "data": {
      "text/plain": [
       "'OH YEAH tom'"
      ]
     },
     "execution_count": 36,
     "metadata": {},
     "output_type": "execute_result"
    }
   ],
   "source": [
    "class KoolaidMan(Figure):\n",
    "    def __init__(self, phrase: str) -> None:\n",
    "        super().__init__(phrase.upper())\n",
    "\n",
    "\n",
    "km = KoolaidMan(\"oh yeah\")\n",
    "\n",
    "\n",
    "km.greet(\"tom\")"
   ]
  },
  {
   "cell_type": "code",
   "execution_count": 37,
   "metadata": {},
   "outputs": [
    {
     "data": {
      "text/plain": [
       "<__main__.KoolaidMan at 0x7f68ae6e25c0>"
      ]
     },
     "execution_count": 37,
     "metadata": {},
     "output_type": "execute_result"
    }
   ],
   "source": [
    "km"
   ]
  },
  {
   "cell_type": "code",
   "execution_count": 38,
   "metadata": {},
   "outputs": [
    {
     "data": {
      "text/plain": [
       "Mario"
      ]
     },
     "execution_count": 38,
     "metadata": {},
     "output_type": "execute_result"
    }
   ],
   "source": [
    "class Mario(Figure):\n",
    "    def __repr__(self) -> str:\n",
    "        return \"Mario\"\n",
    "\n",
    "\n",
    "m = Mario(\"its me\")\n",
    "m"
   ]
  }
 ],
 "metadata": {
  "kernelspec": {
   "display_name": "Python 3.10.4 ('venv')",
   "language": "python",
   "name": "python3"
  },
  "language_info": {
   "codemirror_mode": {
    "name": "ipython",
    "version": 3
   },
   "file_extension": ".py",
   "mimetype": "text/x-python",
   "name": "python",
   "nbconvert_exporter": "python",
   "pygments_lexer": "ipython3",
   "version": "3.10.4"
  },
  "orig_nbformat": 4,
  "vscode": {
   "interpreter": {
    "hash": "23393d2575091a37cff0d0e9e7479591a295495b26c3b2ebf9b64da572e02d85"
   }
  }
 },
 "nbformat": 4,
 "nbformat_minor": 2
}
