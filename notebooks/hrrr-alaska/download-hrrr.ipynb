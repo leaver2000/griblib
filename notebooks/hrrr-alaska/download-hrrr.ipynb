{
 "cells": [
  {
   "cell_type": "code",
   "execution_count": 1,
   "metadata": {},
   "outputs": [
    {
     "data": {
      "text/html": [
       "\n",
       "                <script type=\"application/javascript\" id=\"jupyter_black\">\n",
       "                (function() {\n",
       "                    if (window.IPython === undefined) {\n",
       "                        return\n",
       "                    }\n",
       "                    var msg = \"WARNING: it looks like you might have loaded \" +\n",
       "                        \"jupyter_black in a non-lab notebook with \" +\n",
       "                        \"`is_lab=True`. Please double check, and if \" +\n",
       "                        \"loading with `%load_ext` please review the README!\"\n",
       "                    console.log(msg)\n",
       "                    alert(msg)\n",
       "                })()\n",
       "                </script>\n",
       "                "
      ],
      "text/plain": [
       "<IPython.core.display.HTML object>"
      ]
     },
     "metadata": {},
     "output_type": "display_data"
    }
   ],
   "source": [
    "%load_ext jupyter_black"
   ]
  },
  {
   "cell_type": "code",
   "execution_count": 2,
   "metadata": {},
   "outputs": [],
   "source": [
    "from pathlib import Path\n",
    "from typing import Iterator\n",
    "from datetime import datetime\n",
    "from shutil import copyfileobj\n",
    "import warnings\n",
    "\n",
    "from requests import Session, HTTPError\n",
    "import pandas as pd"
   ]
  },
  {
   "cell_type": "code",
   "execution_count": 23,
   "metadata": {},
   "outputs": [
    {
     "name": "stdout",
     "output_type": "stream",
     "text": [
      "grib2 file saved at  data/hrrr/20220615.conus.t00z.wrfnatf00.grib2\n",
      "grib2 file saved at  data/hrrr/20220615.conus.t01z.wrfnatf00.grib2\n",
      "grib2 file saved at  data/hrrr/20220615.conus.t02z.wrfnatf00.grib2\n",
      "grib2 file saved at  data/hrrr/20220615.conus.t03z.wrfnatf00.grib2\n",
      "grib2 file saved at  data/hrrr/20220615.conus.t04z.wrfnatf00.grib2\n",
      "grib2 file saved at  data/hrrr/20220615.conus.t05z.wrfnatf00.grib2\n",
      "grib2 file saved at  data/hrrr/20220615.conus.t06z.wrfnatf00.grib2\n",
      "grib2 file saved at  data/hrrr/20220615.conus.t07z.wrfnatf00.grib2\n",
      "grib2 file saved at  data/hrrr/20220615.conus.t08z.wrfnatf00.grib2\n",
      "grib2 file saved at  data/hrrr/20220615.conus.t09z.wrfnatf00.grib2\n",
      "grib2 file saved at  data/hrrr/20220615.conus.t10z.wrfnatf00.grib2\n",
      "grib2 file saved at  data/hrrr/20220615.conus.t11z.wrfnatf00.grib2\n",
      "grib2 file saved at  data/hrrr/20220615.conus.t12z.wrfnatf00.grib2\n",
      "grib2 file saved at  data/hrrr/20220615.conus.t13z.wrfnatf00.grib2\n",
      "grib2 file saved at  data/hrrr/20220615.conus.t14z.wrfnatf00.grib2\n",
      "grib2 file saved at  data/hrrr/20220615.conus.t15z.wrfnatf00.grib2\n",
      "grib2 file saved at  data/hrrr/20220615.conus.t16z.wrfnatf00.grib2\n",
      "grib2 file saved at  data/hrrr/20220615.conus.t17z.wrfnatf00.grib2\n",
      "grib2 file saved at  data/hrrr/20220615.conus.t18z.wrfnatf00.grib2\n",
      "grib2 file saved at  data/hrrr/20220615.conus.t19z.wrfnatf00.grib2\n",
      "grib2 file saved at  data/hrrr/20220615.conus.t20z.wrfnatf00.grib2\n",
      "grib2 file saved at  data/hrrr/20220615.conus.t21z.wrfnatf00.grib2\n",
      "grib2 file saved at  data/hrrr/20220615.conus.t22z.wrfnatf00.grib2\n",
      "grib2 file saved at  data/hrrr/20220615.conus.t23z.wrfnatf00.grib2\n",
      "grib2 file saved at  data/hrrr/20220616.conus.t00z.wrfnatf00.grib2\n"
     ]
    }
   ],
   "source": [
    "\n",
    "def google_api_hrrr_grib2_data(start: datetime, end: datetime) -> Iterator[str]:\n",
    "    \"\"\"\n",
    "    url generator function for googleapis high-resolution-rapid-refresh dataset\n",
    "    \"\"\"\n",
    "    base_url = \"https://storage.googleapis.com/high-resolution-rapid-refresh/\"\n",
    "    date_range = pd.date_range(start, end, freq=\"h\")\n",
    "    yield from base_url + date_range.strftime(\"hrrr.%Y%m%d/conus/hrrr.t%Hz.wrfnatf00.grib2\")\n",
    "\n",
    "\n",
    "def download_hrrr(start: datetime, end: datetime, path: Path) -> list[str]:\n",
    "    \"\"\"\n",
    "    iterate over urls and save files to a Path directory\n",
    "    \"\"\"\n",
    "    # request context manager\n",
    "    with Session() as session:\n",
    "        # iteratate over the generator function\n",
    "        for url in google_api_hrrr_grib2_data(start=start, end=end):\n",
    "            # add the filename to the path object\n",
    "            save_to = path / \".\".join(url.replace(\"hrrr.\", \"\").split(\"/\")[-3:])\n",
    "\n",
    "            try:\n",
    "                # make a http get request to the url\n",
    "                res = session.get(url, stream=True)\n",
    "                # on non 200 status code raise HTTPError\n",
    "                res.raise_for_status()\n",
    "                # save the file to the directory\n",
    "                with save_to.open(\"wb\") as fileout:\n",
    "                    copyfileobj(res.raw, fileout)\n",
    "                print(\"grib2 file saved at \", save_to)\n",
    "\n",
    "            except HTTPError:\n",
    "                warnings.warn(f\"Warning: failed to download {url}\")\n",
    "\n",
    "\n",
    "data_hrrr = Path(\"/workspaces/griblib/data/hrrr/\")\n",
    "if __name__ == \"__main__\":\n",
    "    download_hrrr(start=datetime(2022, 6, 15), end=datetime(2022, 6, 16), path=data_hrrr)"
   ]
  }
 ],
 "metadata": {
  "interpreter": {
   "hash": "23393d2575091a37cff0d0e9e7479591a295495b26c3b2ebf9b64da572e02d85"
  },
  "kernelspec": {
   "display_name": "Python 3.10.4 ('venv')",
   "language": "python",
   "name": "python3"
  },
  "language_info": {
   "codemirror_mode": {
    "name": "ipython",
    "version": 3
   },
   "file_extension": ".py",
   "mimetype": "text/x-python",
   "name": "python",
   "nbconvert_exporter": "python",
   "pygments_lexer": "ipython3",
   "version": "3.10.5"
  },
  "orig_nbformat": 4
 },
 "nbformat": 4,
 "nbformat_minor": 2
}
