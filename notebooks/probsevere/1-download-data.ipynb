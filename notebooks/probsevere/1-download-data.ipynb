{
 "cells": [
  {
   "cell_type": "code",
   "execution_count": 2,
   "metadata": {},
   "outputs": [
    {
     "data": {
      "text/html": [
       "\n",
       "                <script type=\"application/javascript\" id=\"jupyter_black\">\n",
       "                (function() {\n",
       "                    if (window.IPython === undefined) {\n",
       "                        return\n",
       "                    }\n",
       "                    var msg = \"WARNING: it looks like you might have loaded \" +\n",
       "                        \"jupyter_black in a non-lab notebook with \" +\n",
       "                        \"`is_lab=True`. Please double check, and if \" +\n",
       "                        \"loading with `%load_ext` please review the README!\"\n",
       "                    console.log(msg)\n",
       "                    alert(msg)\n",
       "                })()\n",
       "                </script>\n",
       "                "
      ],
      "text/plain": [
       "<IPython.core.display.HTML object>"
      ]
     },
     "metadata": {},
     "output_type": "display_data"
    }
   ],
   "source": [
    "%load_ext jupyter_black"
   ]
  },
  {
   "cell_type": "markdown",
   "metadata": {},
   "source": [
    "# downloading archive data"
   ]
  },
  {
   "cell_type": "code",
   "execution_count": 15,
   "metadata": {},
   "outputs": [],
   "source": [
    "import json\n",
    "import shutil\n",
    "from typing import Union\n",
    "from pathlib import Path\n",
    "from datetime import datetime\n",
    "\n",
    "import pandas as pd\n",
    "from requests import Session, HTTPError\n",
    "\n",
    "PROBSEVERE_URL_TEMPLATE = (\n",
    "    \"https://mtarchive.geol.iastate.edu/%Y/%m/%d/mrms/ncep/ProbSevere/MRMS_PROBSEVERE_%Y%m%d_%H%M00.json\"\n",
    ")\n",
    "TimeLike = Union[datetime, str, pd.Timestamp]"
   ]
  },
  {
   "cell_type": "code",
   "execution_count": 17,
   "metadata": {},
   "outputs": [],
   "source": [
    "def download_archive_data(\n",
    "    start: TimeLike,\n",
    "    end: TimeLike,\n",
    "    basedir: Path,\n",
    "    freq: str = \"2min\",\n",
    "    delete_when_done: bool = False,\n",
    ") -> None:\n",
    "    \"\"\"scrape data from the iastate archive over a daterange\"\"\"\n",
    "    # in the event the directory doesnt exsit, make it\n",
    "    if not basedir.exists():\n",
    "        basedir.mkdir()\n",
    "    # create a DatetimeIndex using the the function arguments and format the urls using the url template\n",
    "    urls = pd.date_range(start=start, end=end, freq=freq).strftime(PROBSEVERE_URL_TEMPLATE)\n",
    "    # using Session as a context manager\n",
    "    with Session() as session:\n",
    "        # iterating over all of the urls\n",
    "        for url in urls:\n",
    "            # using a try/catch block in the event the download fails\n",
    "            try:\n",
    "                # with our session make a get request, r is a response object\n",
    "                r = session.get(url, stream=True)\n",
    "                # in the event of a non 200 status code we'll raise a HTTPError and trigger the except block\n",
    "                r.raise_for_status()\n",
    "                # splitting the response.url at each / to get the name of the file and creating a new Path object\n",
    "                outfile = basedir / r.url.split(\"/\")[-1]\n",
    "                # using the path object in the write mode\n",
    "                with outfile.open(\"w\") as f:\n",
    "                    # and saving the fileout\n",
    "                    json.dump(r.json(), f, indent=4)\n",
    "\n",
    "            except (ConnectionError, HTTPError):\n",
    "                print(\"error downloading\", url)\n",
    "\n",
    "\n",
    "outdir = Path(\"/workspaces/griblib/notebooks/probsevere/demo\")\n",
    "\n",
    "download_archive_data(\n",
    "    start=\"2022-07-20T00:00:00Z\",\n",
    "    end=\"2022-07-20T00:10:00Z\",\n",
    "    basedir=outdir,\n",
    ")"
   ]
  }
 ],
 "metadata": {
  "kernelspec": {
   "display_name": "Python 3.10.4 ('venv')",
   "language": "python",
   "name": "python3"
  },
  "language_info": {
   "codemirror_mode": {
    "name": "ipython",
    "version": 3
   },
   "file_extension": ".py",
   "mimetype": "text/x-python",
   "name": "python",
   "nbconvert_exporter": "python",
   "pygments_lexer": "ipython3",
   "version": "3.10.4"
  },
  "orig_nbformat": 4,
  "vscode": {
   "interpreter": {
    "hash": "23393d2575091a37cff0d0e9e7479591a295495b26c3b2ebf9b64da572e02d85"
   }
  }
 },
 "nbformat": 4,
 "nbformat_minor": 2
}
