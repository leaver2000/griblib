{
 "cells": [
  {
   "cell_type": "code",
   "execution_count": 1,
   "metadata": {},
   "outputs": [
    {
     "data": {
      "text/html": [
       "\n",
       "                <script type=\"application/javascript\" id=\"jupyter_black\">\n",
       "                (function() {\n",
       "                    if (window.IPython === undefined) {\n",
       "                        return\n",
       "                    }\n",
       "                    var msg = \"WARNING: it looks like you might have loaded \" +\n",
       "                        \"jupyter_black in a non-lab notebook with \" +\n",
       "                        \"`is_lab=True`. Please double check, and if \" +\n",
       "                        \"loading with `%load_ext` please review the README!\"\n",
       "                    console.log(msg)\n",
       "                    alert(msg)\n",
       "                })()\n",
       "                </script>\n",
       "                "
      ],
      "text/plain": [
       "<IPython.core.display.HTML object>"
      ]
     },
     "metadata": {},
     "output_type": "display_data"
    }
   ],
   "source": [
    "%load_ext jupyter_black"
   ]
  },
  {
   "cell_type": "markdown",
   "metadata": {},
   "source": [
    "# nexrad"
   ]
  },
  {
   "cell_type": "code",
   "execution_count": 1,
   "metadata": {},
   "outputs": [],
   "source": [
    "import numpy as np\n",
    "\n",
    "import boto3\n",
    "import botocore\n",
    "from botocore.client import Config\n",
    "import matplotlib.pyplot as plt\n",
    "from metpy.io import Level2File\n",
    "from metpy.plots import add_timestamp, ctables\n",
    "from mpl_toolkits.axes_grid1 import make_axes_locatable"
   ]
  },
  {
   "cell_type": "code",
   "execution_count": 3,
   "metadata": {},
   "outputs": [],
   "source": [
    "from datetime import datetime\n",
    "from typing import NewType, Iterable\n",
    "\n",
    "import re\n",
    "import pandas as pd\n",
    "\n",
    "\n",
    "s3 = boto3.resource(\n",
    "    \"s3\",\n",
    "    config=Config(signature_version=botocore.UNSIGNED, user_agent_extra=\"Resource\"),\n",
    ")\n",
    "bucket = s3.Bucket(\"noaa-nexrad-level2\")\n",
    "\n",
    "\n",
    "class NexradSummary:\n",
    "    def __init__(self, dsum: pd.Series) -> None:\n",
    "        self.__date_range_summary = dsum\n",
    "\n",
    "    def __repr__(self) -> str:\n",
    "        return self.__date_range_summary.__repr__()\n",
    "\n",
    "    def itersum(self):\n",
    "        yield from self.__date_range_summary.items()\n",
    "    def _generator(self, key:bytes, sweep:int):\n",
    "        for vt, obj in self.itersum():\n",
    "            f = Level2File(obj.get()[\"Body\"])\n",
    "    def reflectivity(self, sweep: int = 0):\n",
    "        return tuple(self._)\n",
    "\n",
    "        #     # return f\n",
    "        #     sweep = 0\n",
    "        #     # First item in ray is header, which has azimuth angle\n",
    "        #     az = np.array([ray[0].az_angle for ray in f.sweeps[sweep]])\n",
    "\n",
    "        #     ref_hdr = f.sweeps[sweep][0][4][b\"REF\"][0]\n",
    "        #     ref_range = (\n",
    "        #         np.arange(ref_hdr.num_gates) * ref_hdr.gate_width + ref_hdr.first_gate\n",
    "        #     )\n",
    "        #     self.__ref = np.array([ray[4][b\"REF\"][1] for ray in f.sweeps[sweep]])\n",
    "\n",
    "        #     rho_hdr = f.sweeps[sweep][0][4][b\"RHO\"][0]\n",
    "        #     rho_range = (\n",
    "        #         np.arange(rho_hdr.num_gates + 1) - 0.5\n",
    "        #     ) * rho_hdr.gate_width + rho_hdr.first_gate\n",
    "        #     rho = np.array([ray[4][b\"RHO\"][1] for ray in f.sweeps[sweep]])\n",
    "\n",
    "        #     phi_hdr = f.sweeps[sweep][0][4][b\"PHI\"][0]\n",
    "        #     phi_range = (\n",
    "        #         np.arange(phi_hdr.num_gates + 1) - 0.5\n",
    "        #     ) * phi_hdr.gate_width + phi_hdr.first_gate\n",
    "        #     phi = np.array([ray[4][b\"PHI\"][1] for ray in f.sweeps[sweep]])\n",
    "\n",
    "        #     zdr_hdr = f.sweeps[sweep][0][4][b\"ZDR\"][0]\n",
    "        #     zdr_range = (\n",
    "        #         np.arange(zdr_hdr.num_gates + 1) - 0.5\n",
    "        #     ) * zdr_hdr.gate_width + zdr_hdr.first_gate\n",
    "        #     zdr = np.array([ray[4][b\"ZDR\"][1] for ray in f.sweeps[sweep]])\n",
    "\n",
    "\n",
    "# def nexrad(date: datetime, station_id: str):\n",
    "#     prefix = date.strftime(f\"%Y/%m/%d/{station_id}\")\n",
    "\n",
    "#     def generate():\n",
    "#         for obj in bucket.objects.filter(Prefix=prefix):\n",
    "#             key = obj.key.split(\"/\")[-1]\n",
    "#             if not key.endswith(\"_V06\"):\n",
    "#                 continue\n",
    "#             d = datetime.strptime(key, f\"{station_id}%Y%m%d_%H%M%S_V06\")\n",
    "\n",
    "#             if True:\n",
    "#                 yield d, obj\n",
    "\n",
    "#     dsum = pd.DataFrame(generate(), columns=[\"validTime\", \"summary\"]).set_index(\"validTime\")[\"summary\"]\n",
    "\n",
    "#     return NexradSummary(dsum)\n",
    "\n",
    "\n",
    "# lvl2 = nexrad(datetime(2022, 7, 20, 0, 19, 5), \"KMLB\")\n",
    "# lvl2.reflectivity()"
   ]
  }
 ],
 "metadata": {
  "kernelspec": {
   "display_name": "Python 3.10.4 ('venv')",
   "language": "python",
   "name": "python3"
  },
  "language_info": {
   "codemirror_mode": {
    "name": "ipython",
    "version": 3
   },
   "file_extension": ".py",
   "mimetype": "text/x-python",
   "name": "python",
   "nbconvert_exporter": "python",
   "pygments_lexer": "ipython3",
   "version": "3.10.5"
  },
  "orig_nbformat": 4,
  "vscode": {
   "interpreter": {
    "hash": "23393d2575091a37cff0d0e9e7479591a295495b26c3b2ebf9b64da572e02d85"
   }
  }
 },
 "nbformat": 4,
 "nbformat_minor": 2
}
