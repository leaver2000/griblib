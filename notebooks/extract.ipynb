{
 "cells": [
  {
   "cell_type": "code",
   "execution_count": 1,
   "metadata": {},
   "outputs": [
    {
     "data": {
      "text/html": [
       "\n",
       "                <script type=\"application/javascript\" id=\"jupyter_black\">\n",
       "                (function() {\n",
       "                    if (window.IPython === undefined) {\n",
       "                        return\n",
       "                    }\n",
       "                    var msg = \"WARNING: it looks like you might have loaded \" +\n",
       "                        \"jupyter_black in a non-lab notebook with \" +\n",
       "                        \"`is_lab=True`. Please double check, and if \" +\n",
       "                        \"loading with `%load_ext` please review the README!\"\n",
       "                    console.log(msg)\n",
       "                    alert(msg)\n",
       "                })()\n",
       "                </script>\n",
       "                "
      ],
      "text/plain": [
       "<IPython.core.display.HTML object>"
      ]
     },
     "metadata": {},
     "output_type": "display_data"
    }
   ],
   "source": [
    "%load_ext griblib.jupyter\n",
    "\n",
    "import io\n",
    "import asyncio\n",
    "from pathlib import Path\n",
    "from datetime import datetime, timedelta\n",
    "import cfgrib\n",
    "import netCDF4\n",
    "from typing import Literal\n",
    "\n",
    "import s3fs\n",
    "\n",
    "import xarray as xr\n",
    "import pandas as pd\n",
    "import numpy as np\n",
    "\n",
    "from griblib import extract\n",
    "\n",
    "GMGSIProducts = Literal[\"GMGSI_LW\", \"GMGSI_SSR\", \"GMGSI_SW\", \"GMGSI_VIS\", \"GMGSI_WV\"]"
   ]
  },
  {
   "cell_type": "code",
   "execution_count": 12,
   "metadata": {},
   "outputs": [
    {
     "name": "stdout",
     "output_type": "stream",
     "text": [
      "<xarray.Dataset>\n",
      "Dimensions:  (time: 24, yc: 3000, xc: 4999)\n",
      "Coordinates:\n",
      "  * time     (time) datetime64[ns] 2022-01-01 ... 2022-01-01T23:00:00\n",
      "Dimensions without coordinates: yc, xc\n",
      "Data variables:\n",
      "    data     (time, yc, xc) float32 dask.array<chunksize=(1, 3000, 4999), meta=np.ndarray>\n",
      "Attributes:\n",
      "    Conventions:          CF-1.4\n",
      "    Source:               McIDAS Area File\n",
      "    Satellite Sensor:     DERIVED DATA\n",
      "    time_coverage_start:  2022-01-01T00:00:00\n",
      "    instrument_name:      GLOBCOMPLIR\n",
      "    history:              Sat Jan  1 00:38:22 2022: ncks -d xc,0,4998 tempo.n...\n",
      "    NCO:                  netCDF Operators version 4.7.5 (Homepage = http://n...\n",
      "<xarray.Dataset>\n",
      "Dimensions:  (time: 24, yc: 3000, xc: 4999)\n",
      "Coordinates:\n",
      "  * time     (time) datetime64[ns] 2022-01-02 ... 2022-01-02T23:00:00\n",
      "Dimensions without coordinates: yc, xc\n",
      "Data variables:\n",
      "    data     (time, yc, xc) float32 dask.array<chunksize=(1, 3000, 4999), meta=np.ndarray>\n",
      "Attributes:\n",
      "    Conventions:          CF-1.4\n",
      "    Source:               McIDAS Area File\n",
      "    Satellite Sensor:     DERIVED DATA\n",
      "    time_coverage_start:  2022-01-02T00:00:00\n",
      "    instrument_name:      GLOBCOMPLIR\n",
      "    history:              Sun Jan  2 00:38:24 2022: ncks -d xc,0,4998 tempo.n...\n",
      "    NCO:                  netCDF Operators version 4.7.5 (Homepage = http://n...\n"
     ]
    }
   ],
   "source": [
    "from typing import Iterable\n",
    "\n",
    "\n",
    "BUCKETS = {\n",
    "    \"GMGSI_LW\": \"GLOBCOMPLIR_nc\",\n",
    "    \"GMGSI_SSR\": \"GLOBCOMPSSR_nc\",\n",
    "    \"GMGSI_SW\": \"GLOBCOMPSIR_nc\",\n",
    "    \"GMGSI_VIS\": \"GLOBCOMPVIS_nc\",\n",
    "    \"GMGSI_WV\": \"GLOBCOMPWV_nc\",\n",
    "}\n",
    "\n",
    "fs = s3fs.S3FileSystem(anon=True)\n",
    "\n",
    "\n",
    "def get_url_template(prod: GMGSIProducts):\n",
    "    return f\"s3://noaa-gmgsi-pds.s3.amazonaws.com/{prod}\"\n",
    "\n",
    "\n",
    "# -3 limits output for testing purposes to prevent memory overload\n",
    "def daily_file_report(date: datetime, prod: GMGSIProducts = \"GMGSI_LW\") -> Iterable[str]:\n",
    "    for path in fs.ls(f\"s3://noaa-gmgsi-pds/{prod}/{date:%Y}/{date:%m}/{date:%d}\"):\n",
    "        for file in fs.ls(path):\n",
    "            yield file\n",
    "\n",
    "def generate_objs(files: Iterable[str]):\n",
    "    for file in files:\n",
    "        with fs.open(file, \"rb\") as f:\n",
    "            yield xr.open_dataset(io.BytesIO(f.read()), engine=\"h5netcdf\", chunks={})\n",
    "\n",
    "def main():\n",
    "\n",
    "    for date in pd.date_range(\"2022-01-01\", \"2022-01-02\", freq=\"d\"):\n",
    "        files = tuple(daily_file_report(date))\n",
    "        if not files:\n",
    "            continue\n",
    "        ds = xr.concat(generate_objs(files), dim=\"time\")\n",
    "        lat, lon = (np.unique(ds[key]) for key in (\"lat\", \"lon\"))\n",
    "        ds = ds.drop([\"lat\", \"lon\"])\n",
    "        print(ds)\n",
    "\n",
    "\n",
    "\n",
    "main()"
   ]
  }
 ],
 "metadata": {
  "kernelspec": {
   "display_name": "Python 3.9.13 ('rapids')",
   "language": "python",
   "name": "python3"
  },
  "language_info": {
   "codemirror_mode": {
    "name": "ipython",
    "version": 3
   },
   "file_extension": ".py",
   "mimetype": "text/x-python",
   "name": "python",
   "nbconvert_exporter": "python",
   "pygments_lexer": "ipython3",
   "version": "3.9.13"
  },
  "orig_nbformat": 4,
  "vscode": {
   "interpreter": {
    "hash": "f708a36acfaef0acf74ccd43dfb58100269bf08fb79032a1e0a6f35bd9856f51"
   }
  }
 },
 "nbformat": 4,
 "nbformat_minor": 2
}
