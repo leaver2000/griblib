{
 "cells": [
  {
   "cell_type": "code",
   "execution_count": 81,
   "metadata": {},
   "outputs": [
    {
     "data": {
      "text/html": [
       "\n",
       "                <script type=\"application/javascript\" id=\"jupyter_black\">\n",
       "                (function() {\n",
       "                    if (window.IPython === undefined) {\n",
       "                        return\n",
       "                    }\n",
       "                    var msg = \"WARNING: it looks like you might have loaded \" +\n",
       "                        \"jupyter_black in a non-lab notebook with \" +\n",
       "                        \"`is_lab=True`. Please double check, and if \" +\n",
       "                        \"loading with `%load_ext` please review the README!\"\n",
       "                    console.log(msg)\n",
       "                    alert(msg)\n",
       "                })()\n",
       "                </script>\n",
       "                "
      ],
      "text/plain": [
       "<IPython.core.display.HTML object>"
      ]
     },
     "metadata": {},
     "output_type": "display_data"
    }
   ],
   "source": [
    "%load_ext jupyter_black"
   ]
  },
  {
   "cell_type": "code",
   "execution_count": 8,
   "metadata": {},
   "outputs": [],
   "source": [
    "import os\n",
    "import site\n",
    "from pathlib import Path\n",
    "\"/opt/venv/lib/python3.10/site-packages/keras/__init__.py\"\n",
    "# site.getsitepackages()\n",
    "# tf_path = Path(\"/opt/venv/lib64/python3.10/site-packages/tensorflow/__init__.py\")\n",
    "# with tf_path.open(\"rt\") as f:\n",
    "#     lines = f.readlines()\n",
    "# [line for line in lines if line.startswith((\"from\", \"import\"))]\n",
    "# k_path = Path(\"/opt/venv/lib64/python3.10/site-packages/keras/api/_v2/__init__.py\")\n",
    "# with k_path.open(\"rt\") as f:\n",
    "#     lines = f.readlines()\n",
    "# [line for line in lines if line.startswith((\"from\", \"import\"))]\n",
    "# keras_walk = os.walk(\"/opt/venv/lib64/python3.10/site-packages/keras/api/_v2/\")\n",
    "# STUBDIR = Path(\"/home/leaver2000/griblib/stubs/tensorflow/keras\")\n",
    "\n",
    "\n",
    "def private(filename: str) -> bool:\n",
    "    return filename.startswith(\"__\") or filename.endswith(\"__\")\n",
    "\n",
    "\n",
    "def __write_all(lines: list[str]):\n",
    "    for line in lines:\n",
    "        if line.startswith((\"from\", \"import\")):\n",
    "            line = line.strip().split()\n",
    "            if not line[-1].startswith(\"_\"):\n",
    "                yield f'\"{line[-1]}\"'\n",
    "\n",
    "\n",
    "def __find_docstring(lines: list[str]) -> slice:\n",
    "    idx1 = None\n",
    "    for i, line in enumerate(lines):\n",
    "        if line.startswith('\"\"\"'):\n",
    "            idx1 = i\n",
    "\n",
    "        if idx1 and line.endswith('\"\"\"\\n'):\n",
    "            return i + 2\n",
    "    return 5\n",
    "\n",
    "\n",
    "def write_keras(stub_out_dir: str, keras_api_dir: str) -> None:\n",
    "    stubpath = Path(stub_out_dir)\n",
    "    __full_all = \"\"\n",
    "    if not stubpath.exists():\n",
    "        stubpath.mkdir(parents=True)\n",
    "    pub_modules =[]\n",
    "    for directory, modules, filenames in os.walk(keras_api_dir):\n",
    "        for module in modules:\n",
    "            if not private(module) and not private(directory):\n",
    "                pub_modules.append(module)\n",
    "                src = f\"{directory}/{module}/{filenames[0]}\"\n",
    "                newstub = stubpath / f\"{module}/{filenames[0]}i\"\n",
    "                newdir = stubpath / module\n",
    "                if not newdir.exists():\n",
    "                    newdir.mkdir(parents=True)\n",
    "                if not newstub.exists():\n",
    "                    newstub.touch()\n",
    "\n",
    "                with open(src, \"rt\") as fin:\n",
    "                    with newstub.open(\"wt\") as fout:\n",
    "                        lines = fin.readlines()\n",
    "                        _all = \",\\n\".join(__write_all(lines))\n",
    "                        __full_all += _all\n",
    "                        _all = f\"__all__ = [\\n{_all}\\n]\\n\\n\"\n",
    "                        idx = __find_docstring(lines)\n",
    "                        # if idx:\n",
    "                        lines.insert(idx, _all)\n",
    "\n",
    "                        fout.write(\"\\n\".join(lines))\n",
    "    _initstub= Path(stub_out_dir  ).parent / \"keras.pyi\"\n",
    "\n",
    "    if not _initstub.exists():\n",
    "        _initstub.touch()\n",
    "    with _initstub.open(\"wt\") as final:\n",
    "        all_modules =',\\n'.join(pub_modules)\n",
    "        final.write(f\"from keras import ({all_modules})\")\n",
    "        # final.write(f\"__all__ = [\\n{__full_all}\\n]\\n\\n from keras import ({all_modules})\")\n",
    "\n",
    "\n",
    "write_keras(\n",
    "    \"/home/leaver2000/griblib/stubs/tensorflow/keras\",\n",
    "    \"/opt/venv/lib64/python3.10/site-packages/keras/api/_v2/\",\n",
    ")"
   ]
  },
  {
   "cell_type": "code",
   "execution_count": 9,
   "metadata": {},
   "outputs": [
    {
     "data": {
      "text/plain": [
       "keras.engine.sequential.Sequential"
      ]
     },
     "execution_count": 9,
     "metadata": {},
     "output_type": "execute_result"
    }
   ],
   "source": [
    "import tensorflow.keras as tfk # type: ignore\n",
    "from tensorflow import keras\n",
    "tfk.Sequential\n"
   ]
  }
 ],
 "metadata": {
  "kernelspec": {
   "display_name": "Python 3.10.5 ('venv')",
   "language": "python",
   "name": "python3"
  },
  "language_info": {
   "codemirror_mode": {
    "name": "ipython",
    "version": 3
   },
   "file_extension": ".py",
   "mimetype": "text/x-python",
   "name": "python",
   "nbconvert_exporter": "python",
   "pygments_lexer": "ipython3",
   "version": "3.10.4"
  },
  "orig_nbformat": 4,
  "vscode": {
   "interpreter": {
    "hash": "23393d2575091a37cff0d0e9e7479591a295495b26c3b2ebf9b64da572e02d85"
   }
  }
 },
 "nbformat": 4,
 "nbformat_minor": 2
}
