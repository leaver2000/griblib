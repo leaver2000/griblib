{
 "cells": [
  {
   "cell_type": "code",
   "execution_count": 3,
   "metadata": {},
   "outputs": [
    {
     "data": {
      "text/html": [
       "\n",
       "                <script type=\"application/javascript\" id=\"jupyter_black\">\n",
       "                (function() {\n",
       "                    if (window.IPython === undefined) {\n",
       "                        return\n",
       "                    }\n",
       "                    var msg = \"WARNING: it looks like you might have loaded \" +\n",
       "                        \"jupyter_black in a non-lab notebook with \" +\n",
       "                        \"`is_lab=True`. Please double check, and if \" +\n",
       "                        \"loading with `%load_ext` please review the README!\"\n",
       "                    console.log(msg)\n",
       "                    alert(msg)\n",
       "                })()\n",
       "                </script>\n",
       "                "
      ],
      "text/plain": [
       "<IPython.core.display.HTML object>"
      ]
     },
     "metadata": {},
     "output_type": "display_data"
    }
   ],
   "source": [
    "%load_ext jupyter_black"
   ]
  },
  {
   "cell_type": "markdown",
   "metadata": {},
   "source": []
  },
  {
   "cell_type": "code",
   "execution_count": 38,
   "metadata": {},
   "outputs": [
    {
     "data": {
      "text/plain": [
       "BoundingBox(south=20, north=40, west=-120, east=-60, shape=(700, 250), dtype=<class 'numpy.float32'>)"
      ]
     },
     "execution_count": 38,
     "metadata": {},
     "output_type": "execute_result"
    },
    {
     "data": {
      "image/png": "[encoded data removed]",
      "text/plain": [
       "<Figure size 640x480 with 1 Axes>"
      ]
     },
     "metadata": {},
     "output_type": "display_data"
    }
   ],
   "source": [
    "from dataclasses import dataclass, field\n",
    "from functools import lru_cache, wraps\n",
    "from typing import Callable, Literal\n",
    "\n",
    "import numpy as np\n",
    "from numpy.typing import NDArray\n",
    "import nvector as nv\n",
    "import matplotlib.pyplot as plt\n",
    "from cartopy.mpl.geoaxes import GeoAxes\n",
    "import cartopy.crs as ccrs\n",
    "\n",
    "\n",
    "@dataclass\n",
    "class BoundingBox:\n",
    "    \"\"\"\n",
    "    Nominatim API\n",
    "    Nominatim API returns a boundingbox property of the form:\n",
    "\n",
    "    south Latitude, north Latitude, west Longitude, east Longitude\n",
    "    For example, Greater London in JSON format:\n",
    "\n",
    "    \"boundingbox\":[\"51.2867602\",\"51.6918741\",\"-0.5103751\",\"0.3340155\"]\n",
    "\n",
    "\n",
    "    ```\n",
    "    bbox = BoundingBox(20.005, 54.995, -129.995, -60.005, shape=(7000, 2500))\n",
    "    with gpu_session(files) as gdf:\n",
    "    gdf[\"X\"] = bbox.fit_array(gdf[\"X\"].values, axis=0)\n",
    "    gdf[\"Y\"] = bbox.fit_array(gdf[\"Y\"].values, axis=1)\n",
    "    ```\n",
    "    \"\"\"\n",
    "\n",
    "    south: float\n",
    "    north: float\n",
    "    west: float\n",
    "    east: float\n",
    "    shape: tuple[int, int]\n",
    "    frame_e: nv.FrameE = field(repr=False, default=nv.FrameE(name=\"WGS84\"))\n",
    "    projection: ccrs.Projection = field(repr=False, default=ccrs.PlateCarree())\n",
    "    dtype: np.dtype = np.float32\n",
    "\n",
    "    @property\n",
    "    def lat(self) -> NDArray:\n",
    "        _, num = self.shape\n",
    "        return np.linspace(self.south, self.north, num, dtype=self.dtype)\n",
    "\n",
    "    @property\n",
    "    def lon(self) -> NDArray:\n",
    "        num, _ = self.shape\n",
    "        return np.linspace(self.west, self.east, num, dtype=self.dtype)\n",
    "\n",
    "    def __post_init__(self):\n",
    "        self.__matrix = np.array(np.meshgrid(self.lon, self.lat))\n",
    "\n",
    "    @property\n",
    "    def matrix(self) -> NDArray:\n",
    "        return self.__matrix\n",
    "\n",
    "    @property\n",
    "    def extent(self):\n",
    "        return np.array([self.west, self.east, self.south, self.north], dtype=self.dtype)\n",
    "\n",
    "    def get_axes(self) -> GeoAxes:\n",
    "        return plt.axes(projection=self.projection)\n",
    "\n",
    "    def meshgrid(self, indexing: Literal[\"xy\", \"ij\"] = \"xy\") -> tuple[NDArray, NDArray]:\n",
    "        return np.meshgrid(self.lon, self.lat, indexing=indexing)\n",
    "\n",
    "    def set_axes(self, resolution: str = \"auto\", color: str = \"black\", **kwargs: any):\n",
    "        ax = self.get_axes()\n",
    "        ax.set_extent(self.extent, crs=self.projection)\n",
    "        ax.coastlines(resolution=resolution)\n",
    "        ax.gridlines()\n",
    "        ax.plot(\n",
    "            *self.meshgrid(\"ij\"),\n",
    "            linewidth=0.5,\n",
    "            color=\"black\",\n",
    "            alpha=0.1,\n",
    "        )\n",
    "        ax.plot(\n",
    "            *self.meshgrid(\"xy\"),\n",
    "            color=\"black\",\n",
    "            linewidth=0.5,\n",
    "            alpha=0.1,\n",
    "        )\n",
    "        return self\n",
    "\n",
    "\n",
    "south, north, west, east = 20, 40, -120, -60\n",
    "shape = np.array((70, 25)) * 10\n",
    "bbox = BoundingBox(south, north, west, east, shape=tuple(shape))\n",
    "bbox.set_axes()\n",
    "# bbox.matrix.T"
   ]
  },
  {
   "cell_type": "code",
   "execution_count": 47,
   "metadata": {},
   "outputs": [
    {
     "name": "stdout",
     "output_type": "stream",
     "text": [
      "hello\n"
     ]
    },
    {
     "data": {
      "text/plain": [
       "(array([[[1, 2],\n",
       "         [1, 2]],\n",
       " \n",
       "        [[1, 1],\n",
       "         [2, 2]]]),\n",
       " array([[[1, 2],\n",
       "         [1, 2]],\n",
       " \n",
       "        [[1, 1],\n",
       "         [2, 2]]]))"
      ]
     },
     "execution_count": 47,
     "metadata": {},
     "output_type": "execute_result"
    }
   ],
   "source": [
    "def np_cache(function):\n",
    "    @lru_cache()\n",
    "    def cached_wrapper(lat, lon):\n",
    "        array = np.array(np.meshgrid(lat, lon))\n",
    "        return function(array)\n",
    "\n",
    "    @wraps(function)\n",
    "    def wrapper(a1, a2):\n",
    "        return cached_wrapper(tuple(a1), tuple(a2))\n",
    "\n",
    "    # copy lru_cache attributes over too\n",
    "    wrapper.cache_info = cached_wrapper.cache_info\n",
    "    wrapper.cache_clear = cached_wrapper.cache_clear\n",
    "\n",
    "    return wrapper\n",
    "\n",
    "\n",
    "@np_cache\n",
    "def f(a):\n",
    "    print(\"hello\")\n",
    "    return a\n",
    "\n",
    "\n",
    "f(np.array([1, 2]), np.array([1, 2])), f(np.array([1, 2]), np.array([1, 2]))"
   ]
  }
 ],
 "metadata": {
  "kernelspec": {
   "display_name": "Python 3.10.4 64-bit",
   "language": "python",
   "name": "python3"
  },
  "language_info": {
   "codemirror_mode": {
    "name": "ipython",
    "version": 3
   },
   "file_extension": ".py",
   "mimetype": "text/x-python",
   "name": "python",
   "nbconvert_exporter": "python",
   "pygments_lexer": "ipython3",
   "version": "3.10.4"
  },
  "orig_nbformat": 4,
  "vscode": {
   "interpreter": {
    "hash": "916dbcbb3f70747c44a77c7bcd40155683ae19c65e1c03b4aa3499c5328201f1"
   }
  }
 },
 "nbformat": 4,
 "nbformat_minor": 2
}
