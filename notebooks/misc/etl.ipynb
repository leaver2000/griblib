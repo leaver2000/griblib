{
 "cells": [
  {
   "cell_type": "code",
   "execution_count": 1,
   "metadata": {},
   "outputs": [
    {
     "data": {
      "text/html": [
       "\n",
       "                <script type=\"application/javascript\" id=\"jupyter_black\">\n",
       "                (function() {\n",
       "                    if (window.IPython === undefined) {\n",
       "                        return\n",
       "                    }\n",
       "                    var msg = \"WARNING: it looks like you might have loaded \" +\n",
       "                        \"jupyter_black in a non-lab notebook with \" +\n",
       "                        \"`is_lab=True`. Please double check, and if \" +\n",
       "                        \"loading with `%load_ext` please review the README!\"\n",
       "                    console.log(msg)\n",
       "                    alert(msg)\n",
       "                })()\n",
       "                </script>\n",
       "                "
      ],
      "text/plain": [
       "<IPython.core.display.HTML object>"
      ]
     },
     "metadata": {},
     "output_type": "display_data"
    }
   ],
   "source": [
    "%load_ext jupyter_black"
   ]
  },
  {
   "cell_type": "code",
   "execution_count": 12,
   "metadata": {},
   "outputs": [
    {
     "name": "stdout",
     "output_type": "stream",
     "text": [
      "Transformed(named_arrays={'hello': [[1, 2, 3], [1, 2, 3]]})\n"
     ]
    }
   ],
   "source": [
    "import dataclasses\n",
    "\n",
    "from collections import defaultdict\n",
    "\n",
    "\n",
    "@dataclasses.dataclass\n",
    "class Extracted:\n",
    "    values: list\n",
    "\n",
    "\n",
    "def extract() -> Extracted:\n",
    "    return Extracted(values=[[1, 2, 3], [1, 2, 3]])\n",
    "\n",
    "\n",
    "def some_other_extract() -> Extracted:\n",
    "    return Extracted(values=[[1, 2, 3], [1, 2, 3]])\n",
    "\n",
    "\n",
    "@dataclasses.dataclass\n",
    "class Transformed:\n",
    "    named_arrays: dict = dataclasses.field(default_factory=defaultdict(lambda x: x))\n",
    "\n",
    "\n",
    "def transfer(ext: Extracted) -> Transformed:\n",
    "    tsf = Transformed({})\n",
    "\n",
    "    tsf.named_arrays[\"hello\"] = ext.values\n",
    "    print(tsf)\n",
    "\n",
    "\n",
    "def load(tranf: Transformed):\n",
    "    ...\n",
    "\n",
    "\n",
    "def main():\n",
    "    ext = extract()\n",
    "    result = transfer(ext)\n",
    "    load(result)\n",
    "\n",
    "\n",
    "main()"
   ]
  },
  {
   "cell_type": "code",
   "execution_count": 128,
   "metadata": {},
   "outputs": [
    {
     "data": {
      "text/plain": [
       "0    1\n",
       "1    2\n",
       "Name: hello, dtype: int64"
      ]
     },
     "execution_count": 128,
     "metadata": {},
     "output_type": "execute_result"
    }
   ],
   "source": [
    "import pandas as pd\n",
    "from typing import Literal, TypeVar, Type, Generic, Protocol, NewType, Optional\n",
    "import typing\n",
    "\n",
    "\n",
    "T = TypeVar(\"T\")\n",
    "N = TypeVar(\"N\", bound=type)\n",
    "name = Literal\n",
    "import numpy as np\n",
    "\n",
    "\n",
    "class TypedDataFrame(pd.DataFrame, Generic[T]):\n",
    "    def __new__(\n",
    "        self,\n",
    "        *args,\n",
    "        **kwargs,\n",
    "    ) -> None:\n",
    "        ...\n",
    "        super().__init__(\n",
    "            *args,\n",
    "            **kwargs,\n",
    "        )\n",
    "\n",
    "    def __getattribute__(self, __name: T) -> T:\n",
    "        ...\n",
    "\n",
    "    # return super().__getattribute__(__name)\n",
    "    # def __getattribute__(self)\n",
    "\n",
    "\n",
    "class F(Generic[T]):\n",
    "    ...\n",
    "\n",
    "\n",
    "from typing import Union\n",
    "\n",
    "\n",
    "def dataframe(t: Type[T]) -> Type[Union[T, pd.DataFrame]]:\n",
    "    columns = typing.get_type_hints(t)\n",
    "\n",
    "    def wraps(*args, **kwargs):\n",
    "        return pd.DataFrame(*args, **kwargs, columns=columns)  # dtype=list(t.__annotations__.items()))\n",
    "\n",
    "    return wraps\n",
    "    ...\n",
    "\n",
    "\n",
    "class Series(pd.Series, Generic[T]):\n",
    "    ...\n",
    "\n",
    "\n",
    "@dataframe\n",
    "class DefinedDataFrame:\n",
    "    hello: Series[int]\n",
    "\n",
    "\n",
    "df = DefinedDataFrame([[1], [2]])\n",
    "\n",
    "\n",
    "df.apply\n",
    "\n",
    "df.sdasd\n",
    "df.hello"
   ]
  },
  {
   "cell_type": "code",
   "execution_count": null,
   "metadata": {},
   "outputs": [],
   "source": [
    "T = TypeVar('T')\n",
    "S = TypeVar('S')\n",
    "\n",
    "class Array(Generic[T, S]):\n",
    "    l: list[T]\n",
    "    s: S\n",
    "    def __init__(self, s: S):\n",
    "        self.l = []\n",
    "        #...\n",
    "        self.s = s\n",
    "\n",
    "def typed_array_op(a: T, b: T) -> T:\n",
    "    return some_func(a, b)\n",
    "\n",
    "#...\n",
    "\n",
    "a2: Array[int, Literal[2]]\n",
    "b2: Array[int, Literal[2]]\n",
    "a3: Array[int, Literal[3]]"
   ]
  }
 ],
 "metadata": {
  "kernelspec": {
   "display_name": "Python 3.9.13 ('rapids')",
   "language": "python",
   "name": "python3"
  },
  "language_info": {
   "codemirror_mode": {
    "name": "ipython",
    "version": 3
   },
   "file_extension": ".py",
   "mimetype": "text/x-python",
   "name": "python",
   "nbconvert_exporter": "python",
   "pygments_lexer": "ipython3",
   "version": "3.9.13"
  },
  "orig_nbformat": 4,
  "vscode": {
   "interpreter": {
    "hash": "f708a36acfaef0acf74ccd43dfb58100269bf08fb79032a1e0a6f35bd9856f51"
   }
  }
 },
 "nbformat": 4,
 "nbformat_minor": 2
}
